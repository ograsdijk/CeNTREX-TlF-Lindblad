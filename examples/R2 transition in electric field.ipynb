{
 "cells": [
  {
   "cell_type": "code",
   "execution_count": null,
   "metadata": {},
   "outputs": [],
   "source": [
    "from centrex_tlf_hamiltonian import states, hamiltonian, transitions\n",
    "import centrex_tlf_couplings as couplings\n",
    "import centrex_tlf_lindblad as lindblad\n",
    "import numpy as np\n",
    "from scipy import constants as cst\n",
    "\n",
    "import matplotlib.pyplot as plt"
   ]
  },
  {
   "cell_type": "code",
   "execution_count": null,
   "metadata": {},
   "outputs": [],
   "source": [
    "plt.rcParams.update({'font.size': 15})"
   ]
  },
  {
   "cell_type": "code",
   "execution_count": null,
   "metadata": {},
   "outputs": [],
   "source": [
    "def doppler_shift(velocity, frequency):\n",
    "    \"\"\"calculate the doppler shifted frequency\n",
    "    Args:\n",
    "        velocity (float): velocity [m/s]\n",
    "        frequency (float): frequency [Hz]\n",
    "    Returns:\n",
    "        float: doppler shifted frequency in Hz\n",
    "    \"\"\"\n",
    "    return frequency * (1 + velocity / cst.c)\n",
    "\n",
    "\n",
    "def velocity_to_detuning(velocity, frequency=1.103e15, Γ=2*np.pi*1.56e6):\n",
    "    \"\"\"convert velocity to detuning in units of Γ\n",
    "    Args:\n",
    "        velocity (float): velocity [m/s]\n",
    "        frequency (float): frequency [Hz]\n",
    "        Γ (float): Γ [2π⋅Hz]\n",
    "    Returns:\n",
    "        float: detuning in units of Γ\n",
    "    \"\"\"\n",
    "    return (doppler_shift(velocity, frequency) - frequency) * 2 * np.pi / Γ"
   ]
  },
  {
   "cell_type": "code",
   "execution_count": null,
   "metadata": {},
   "outputs": [],
   "source": [
    "trans = [transitions.OpticalTransition(transitions.OpticalTransitionType.R, J_ground=2, F1=7/2, F=4)]\n",
    "\n",
    "polarizations = [\n",
    "    [couplings.polarization_σp]\n",
    "]\n",
    "\n",
    "transition_selectors = couplings.generate_transition_selectors(\n",
    "    trans, polarizations, \n",
    "    ground_mains = [\n",
    "        1*states.CoupledBasisState(\n",
    "            J=2, F=3, F1=5/2, mF=0, I1=1/2, I2=1/2, Ω=0, P=+1, \n",
    "            electronic_state=states.ElectronicState.X\n",
    "            )\n",
    "        ],\n",
    "    excited_mains=[\n",
    "        1*states.CoupledBasisState(\n",
    "            J=3, F=4, F1=7/2, mF=1, I1=1/2, I2=1/2, Ω=1, P=-1, \n",
    "            electronic_state=states.ElectronicState.B\n",
    "        )\n",
    "    ]\n",
    ")"
   ]
  },
  {
   "cell_type": "code",
   "execution_count": null,
   "metadata": {},
   "outputs": [],
   "source": [
    "v_to_Γ = velocity_to_detuning(1)*hamiltonian.Γ\n",
    "\n",
    "\n",
    "odepars = lindblad.odeParameters(\n",
    "    Ω0 = \"Ωl0 * phase_modulation(t, β, ωphase)\",\n",
    "    Ωl0     = 1*hamiltonian.Γ,    # Rabi frequency of the laser [rad/s]\n",
    "    δ0      = f\"vx*{v_to_Γ}\", # detuning of the laser [rad/s]\n",
    "    \n",
    "    # laser phase modulation\n",
    "    ωphase = hamiltonian.Γ,       # laser phase modulation frequency [rad/s]\n",
    "    β      = 3.8,             # laser phase modulation depth [rad]\n",
    "    \n",
    "    Pσp0 = 1,\n",
    "\n",
    "    # molecules\n",
    "    z0 = 0,                   # molecule start z position [m]\n",
    "    vz = 184,                 # longitudinal molecular velocity [m/s]\n",
    "    vx = 0,\n",
    ")"
   ]
  },
  {
   "cell_type": "code",
   "execution_count": null,
   "metadata": {},
   "outputs": [],
   "source": [
    "%%time\n",
    "obe_system = lindblad.setup_OBE_system_julia_transitions(\n",
    "    odepars, trans, transition_selectors, verbose=True, full_output=True, \n",
    "    qn_compact= True,\n",
    "    decay_channels = None,\n",
    "    E = np.array([0,0,200])\n",
    ")"
   ]
  },
  {
   "cell_type": "code",
   "execution_count": null,
   "metadata": {},
   "outputs": [],
   "source": [
    "couplings.generate_br_dataframe(obe_system.ground, obe_system.excited, group_ground='J')"
   ]
  },
  {
   "cell_type": "code",
   "execution_count": null,
   "metadata": {},
   "outputs": [],
   "source": [
    "obe_system.couplings[0]"
   ]
  },
  {
   "cell_type": "code",
   "execution_count": null,
   "metadata": {},
   "outputs": [],
   "source": [
    "obe_system.H_symbolic"
   ]
  },
  {
   "cell_type": "code",
   "execution_count": null,
   "metadata": {},
   "outputs": [],
   "source": [
    "qn_select = states.QuantumSelector(J=2, F=3, electronic = states.ElectronicState.X)\n",
    "indices = qn_select.get_indices(obe_system.QN)\n",
    "ρ = np.zeros(obe_system.H_symbolic.shape, dtype = complex)\n",
    "for idx in indices:\n",
    "    ρ[idx,idx] = 1 / indices.size"
   ]
  },
  {
   "cell_type": "code",
   "execution_count": null,
   "metadata": {},
   "outputs": [],
   "source": [
    "problem = lindblad.OBEProblem(odepars, ρ, tspan = (0,200e-6))\n",
    "config = lindblad.OBEProblemConfig(saveat = 1e-6)"
   ]
  },
  {
   "cell_type": "code",
   "execution_count": null,
   "metadata": {},
   "outputs": [],
   "source": [
    "results = lindblad.do_simulation_single(problem)"
   ]
  },
  {
   "cell_type": "code",
   "execution_count": null,
   "metadata": {},
   "outputs": [],
   "source": [
    "qn_select_excited = states.QuantumSelector(electronic=states.ElectronicState.B)\n",
    "indices_excited = qn_select_excited.get_indices(obe_system.QN)"
   ]
  },
  {
   "cell_type": "code",
   "execution_count": null,
   "metadata": {},
   "outputs": [],
   "source": [
    "fig, ax = plt.subplots(figsize = (10,6)) \n",
    "ax.plot(results.t*odepars.vz, results.y.T, lw = 2)\n",
    "ax.set_xlabel('distance [m]')\n",
    "ax.set_ylabel('population')\n",
    "# ax.legend(fontsize = 14)\n",
    "ax.grid(True)\n",
    "\n",
    "nphotons = np.trapz(results.y[indices_excited], x = results.t).sum() * hamiltonian.Γ\n",
    "print(f\"{nphotons:.2f} photons\")"
   ]
  },
  {
   "cell_type": "code",
   "execution_count": null,
   "metadata": {},
   "outputs": [],
   "source": [
    "print(obe_system.couplings[0].fields[0].field.shape)\n",
    "print(len(obe_system.QN))"
   ]
  },
  {
   "cell_type": "code",
   "execution_count": null,
   "metadata": {},
   "outputs": [],
   "source": [
    "obe_system.couplings"
   ]
  },
  {
   "cell_type": "code",
   "execution_count": null,
   "metadata": {},
   "outputs": [],
   "source": [
    "from typing import List\n",
    "def generate_qn_compact(\n",
    "    transitions: List[couplings.TransitionSelector],\n",
    "    X_basis: List[states.State],\n",
    "):\n",
    "    J_transitions_ground = []\n",
    "    for transition in transitions:\n",
    "        J_transitions_ground.append(transition.J_ground)\n",
    "    J_compact = [\n",
    "        Ji\n",
    "        for Ji in np.unique([s.largest.J for s in X_basis])  # type: ignore\n",
    "        if Ji not in J_transitions_ground\n",
    "    ]\n",
    "    qn_compact = [\n",
    "        states.QuantumSelector(J=Ji, electronic=states.ElectronicState.X)\n",
    "        for Ji in J_compact\n",
    "    ]\n",
    "\n",
    "    return qn_compact"
   ]
  },
  {
   "cell_type": "code",
   "execution_count": null,
   "metadata": {},
   "outputs": [],
   "source": []
  }
 ],
 "metadata": {
  "kernelspec": {
   "display_name": "Python 3.10.8 ('centrex-beamsource-test')",
   "language": "python",
   "name": "python3"
  },
  "language_info": {
   "codemirror_mode": {
    "name": "ipython",
    "version": 3
   },
   "file_extension": ".py",
   "mimetype": "text/x-python",
   "name": "python",
   "nbconvert_exporter": "python",
   "pygments_lexer": "ipython3",
   "version": "3.10.8 | packaged by conda-forge | (main, Nov  4 2022, 13:42:51) [MSC v.1916 64 bit (AMD64)]"
  },
  "orig_nbformat": 4,
  "vscode": {
   "interpreter": {
    "hash": "8383966f783734951b4f24c186da727276ef30865c1927a574b16bd308bfbbb2"
   }
  }
 },
 "nbformat": 4,
 "nbformat_minor": 2
}
